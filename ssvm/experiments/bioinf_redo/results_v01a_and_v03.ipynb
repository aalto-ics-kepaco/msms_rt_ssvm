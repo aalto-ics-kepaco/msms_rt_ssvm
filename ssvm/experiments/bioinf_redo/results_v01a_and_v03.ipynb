{
 "cells": [
  {
   "cell_type": "code",
   "execution_count": 2,
   "metadata": {},
   "outputs": [],
   "source": [
    "import pandas as pd\n",
    "import seaborn as sns\n",
    "import matplotlib.pyplot as plt\n",
    "import numpy as np\n",
    "import os"
   ]
  },
  {
   "cell_type": "markdown",
   "metadata": {},
   "source": [
    "## CASMI - NEGATIVE"
   ]
  },
  {
   "cell_type": "code",
   "execution_count": 45,
   "metadata": {},
   "outputs": [],
   "source": [
    "IDIR_V01a = \"logs_triton/version_01a/ds=CASMI__ion=negative/\"\n",
    "IDIR_V03 = \"logs_triton/version_03__log_score_fix/ds=CASMI__ion=negative/\""
   ]
  },
  {
   "cell_type": "code",
   "execution_count": 21,
   "metadata": {},
   "outputs": [],
   "source": [
    "df = pd.concat(\n",
    "    [\n",
    "        pd.read_csv(os.path.join(IDIR_V01a, \"topk__spl=%03d.tsv\" % idx), sep=\"\\t\").assign(sample=idx, version=\"v01a\") \n",
    "        for idx in range(10)\n",
    "    ] \n",
    "    + \n",
    "    [\n",
    "        pd.read_csv(os.path.join(IDIR_V03, \"topk__spl=%03d.tsv\" % idx), sep=\"\\t\")\n",
    "            .assign(sample=idx, version=\"v03\")\n",
    "            .rename(columns={\"top_acc_perc__casmi\": \"top_acc_perc\"})\n",
    "        for idx in range(10)\n",
    "    ]\n",
    "    +\n",
    "    [\n",
    "        pd.read_csv(os.path.join(IDIR_V03, \"topk__baseline__spl=%03d.tsv\" % idx), sep=\"\\t\")\n",
    "            .assign(sample=idx, version=\"baseline\")\n",
    "            .rename(columns={\"top_acc_perc__casmi\": \"top_acc_perc\"})\n",
    "        for idx in range(10)\n",
    "    ]\n",
    ")"
   ]
  },
  {
   "cell_type": "code",
   "execution_count": 36,
   "metadata": {},
   "outputs": [
    {
     "data": {
      "text/html": [
       "<div>\n",
       "<style scoped>\n",
       "    .dataframe tbody tr th:only-of-type {\n",
       "        vertical-align: middle;\n",
       "    }\n",
       "\n",
       "    .dataframe tbody tr th {\n",
       "        vertical-align: top;\n",
       "    }\n",
       "\n",
       "    .dataframe thead th {\n",
       "        text-align: right;\n",
       "    }\n",
       "</style>\n",
       "<table border=\"1\" class=\"dataframe\">\n",
       "  <thead>\n",
       "    <tr style=\"text-align: right;\">\n",
       "      <th></th>\n",
       "      <th></th>\n",
       "      <th>top_acc_perc</th>\n",
       "    </tr>\n",
       "    <tr>\n",
       "      <th>k</th>\n",
       "      <th>version</th>\n",
       "      <th></th>\n",
       "    </tr>\n",
       "  </thead>\n",
       "  <tbody>\n",
       "    <tr>\n",
       "      <th rowspan=\"3\" valign=\"top\">1</th>\n",
       "      <th>baseline</th>\n",
       "      <td>10.0</td>\n",
       "    </tr>\n",
       "    <tr>\n",
       "      <th>v01a</th>\n",
       "      <td>16.0</td>\n",
       "    </tr>\n",
       "    <tr>\n",
       "      <th>v03</th>\n",
       "      <td>16.0</td>\n",
       "    </tr>\n",
       "    <tr>\n",
       "      <th rowspan=\"3\" valign=\"top\">5</th>\n",
       "      <th>baseline</th>\n",
       "      <td>43.6</td>\n",
       "    </tr>\n",
       "    <tr>\n",
       "      <th>v01a</th>\n",
       "      <td>44.4</td>\n",
       "    </tr>\n",
       "    <tr>\n",
       "      <th>v03</th>\n",
       "      <td>46.2</td>\n",
       "    </tr>\n",
       "    <tr>\n",
       "      <th rowspan=\"3\" valign=\"top\">10</th>\n",
       "      <th>baseline</th>\n",
       "      <td>54.4</td>\n",
       "    </tr>\n",
       "    <tr>\n",
       "      <th>v01a</th>\n",
       "      <td>56.4</td>\n",
       "    </tr>\n",
       "    <tr>\n",
       "      <th>v03</th>\n",
       "      <td>57.0</td>\n",
       "    </tr>\n",
       "    <tr>\n",
       "      <th rowspan=\"3\" valign=\"top\">20</th>\n",
       "      <th>baseline</th>\n",
       "      <td>68.4</td>\n",
       "    </tr>\n",
       "    <tr>\n",
       "      <th>v01a</th>\n",
       "      <td>69.2</td>\n",
       "    </tr>\n",
       "    <tr>\n",
       "      <th>v03</th>\n",
       "      <td>69.2</td>\n",
       "    </tr>\n",
       "  </tbody>\n",
       "</table>\n",
       "</div>"
      ],
      "text/plain": [
       "             top_acc_perc\n",
       "k  version               \n",
       "1  baseline          10.0\n",
       "   v01a              16.0\n",
       "   v03               16.0\n",
       "5  baseline          43.6\n",
       "   v01a              44.4\n",
       "   v03               46.2\n",
       "10 baseline          54.4\n",
       "   v01a              56.4\n",
       "   v03               57.0\n",
       "20 baseline          68.4\n",
       "   v01a              69.2\n",
       "   v03               69.2"
      ]
     },
     "execution_count": 36,
     "metadata": {},
     "output_type": "execute_result"
    }
   ],
   "source": [
    "df[df[\"k\"].isin([1, 5, 10, 20])].drop([\"sample\", \"top_acc_perc__csi\"], axis=1).groupby([\"k\", \"version\"]).mean()"
   ]
  },
  {
   "cell_type": "code",
   "execution_count": 46,
   "metadata": {},
   "outputs": [
    {
     "data": {
      "text/plain": [
       "Text(0.5, 1.0, 'Normalized Discounted Cumulative Gain (NDCG)')"
      ]
     },
     "execution_count": 46,
     "metadata": {},
     "output_type": "execute_result"
    },
    {
     "data": {
      "image/png": "[encoded data removed]",
      "text/plain": [
       "<Figure size 432x288 with 1 Axes>"
      ]
     },
     "metadata": {
      "needs_background": "light"
     },
     "output_type": "display_data"
    }
   ],
   "source": [
    "df = pd.concat(\n",
    "    [\n",
    "        pd.read_csv(os.path.join(IDIR_V03, \"grid_search_results__spl=%03d.tsv\" % idx), sep=\"\\t\").assign(sample=idx) \n",
    "        for idx in range(10)\n",
    "    ]\n",
    ")\n",
    "\n",
    "ax = sns.pointplot(x=\"C\", y=\"ndcg_ohc\", data=df)\n",
    "ax.grid(axis=\"y\")\n",
    "ax.set_xlabel(\"Regularization parameter C\")\n",
    "ax.set_ylabel(\"NDCG on Test Set\")\n",
    "ax.set_title(\"Normalized Discounted Cumulative Gain (NDCG)\")"
   ]
  },
  {
   "cell_type": "markdown",
   "metadata": {},
   "source": [
    "## EA - NEGATIVE"
   ]
  },
  {
   "cell_type": "code",
   "execution_count": 68,
   "metadata": {},
   "outputs": [],
   "source": [
    "IDIR_V01a = \"logs_triton/version_01a/ds=EA__ion=negative/\"\n",
    "IDIR_V03 = \"logs_triton/version_03__log_score_fix/ds=EA__ion=negative/\""
   ]
  },
  {
   "cell_type": "code",
   "execution_count": 38,
   "metadata": {},
   "outputs": [],
   "source": [
    "df = pd.concat(\n",
    "    [\n",
    "        pd.read_csv(os.path.join(IDIR_V01a, \"topk__spl=%03d.tsv\" % idx), sep=\"\\t\").assign(sample=idx, version=\"v01a\") \n",
    "        for idx in range(10)\n",
    "    ] \n",
    "    + \n",
    "    [\n",
    "        pd.read_csv(os.path.join(IDIR_V03, \"topk__spl=%03d.tsv\" % idx), sep=\"\\t\")\n",
    "            .assign(sample=idx, version=\"v03\")\n",
    "            .rename(columns={\"top_acc_perc__casmi\": \"top_acc_perc\"})\n",
    "        for idx in range(10)\n",
    "    ]\n",
    "    +\n",
    "    [\n",
    "        pd.read_csv(os.path.join(IDIR_V03, \"topk__baseline__spl=%03d.tsv\" % idx), sep=\"\\t\")\n",
    "            .assign(sample=idx, version=\"baseline\")\n",
    "            .rename(columns={\"top_acc_perc__casmi\": \"top_acc_perc\"})\n",
    "        for idx in range(10)\n",
    "    ]\n",
    ")"
   ]
  },
  {
   "cell_type": "code",
   "execution_count": 39,
   "metadata": {},
   "outputs": [
    {
     "data": {
      "text/html": [
       "<div>\n",
       "<style scoped>\n",
       "    .dataframe tbody tr th:only-of-type {\n",
       "        vertical-align: middle;\n",
       "    }\n",
       "\n",
       "    .dataframe tbody tr th {\n",
       "        vertical-align: top;\n",
       "    }\n",
       "\n",
       "    .dataframe thead th {\n",
       "        text-align: right;\n",
       "    }\n",
       "</style>\n",
       "<table border=\"1\" class=\"dataframe\">\n",
       "  <thead>\n",
       "    <tr style=\"text-align: right;\">\n",
       "      <th></th>\n",
       "      <th></th>\n",
       "      <th>top_acc_perc</th>\n",
       "    </tr>\n",
       "    <tr>\n",
       "      <th>k</th>\n",
       "      <th>version</th>\n",
       "      <th></th>\n",
       "    </tr>\n",
       "  </thead>\n",
       "  <tbody>\n",
       "    <tr>\n",
       "      <th rowspan=\"3\" valign=\"top\">1</th>\n",
       "      <th>baseline</th>\n",
       "      <td>20.769231</td>\n",
       "    </tr>\n",
       "    <tr>\n",
       "      <th>v01a</th>\n",
       "      <td>26.153846</td>\n",
       "    </tr>\n",
       "    <tr>\n",
       "      <th>v03</th>\n",
       "      <td>26.461538</td>\n",
       "    </tr>\n",
       "    <tr>\n",
       "      <th rowspan=\"3\" valign=\"top\">5</th>\n",
       "      <th>baseline</th>\n",
       "      <td>56.307692</td>\n",
       "    </tr>\n",
       "    <tr>\n",
       "      <th>v01a</th>\n",
       "      <td>61.538462</td>\n",
       "    </tr>\n",
       "    <tr>\n",
       "      <th>v03</th>\n",
       "      <td>61.230769</td>\n",
       "    </tr>\n",
       "    <tr>\n",
       "      <th rowspan=\"3\" valign=\"top\">10</th>\n",
       "      <th>baseline</th>\n",
       "      <td>67.692308</td>\n",
       "    </tr>\n",
       "    <tr>\n",
       "      <th>v01a</th>\n",
       "      <td>72.307692</td>\n",
       "    </tr>\n",
       "    <tr>\n",
       "      <th>v03</th>\n",
       "      <td>71.076923</td>\n",
       "    </tr>\n",
       "    <tr>\n",
       "      <th rowspan=\"3\" valign=\"top\">20</th>\n",
       "      <th>baseline</th>\n",
       "      <td>76.153846</td>\n",
       "    </tr>\n",
       "    <tr>\n",
       "      <th>v01a</th>\n",
       "      <td>79.846154</td>\n",
       "    </tr>\n",
       "    <tr>\n",
       "      <th>v03</th>\n",
       "      <td>80.923077</td>\n",
       "    </tr>\n",
       "  </tbody>\n",
       "</table>\n",
       "</div>"
      ],
      "text/plain": [
       "             top_acc_perc\n",
       "k  version               \n",
       "1  baseline     20.769231\n",
       "   v01a         26.153846\n",
       "   v03          26.461538\n",
       "5  baseline     56.307692\n",
       "   v01a         61.538462\n",
       "   v03          61.230769\n",
       "10 baseline     67.692308\n",
       "   v01a         72.307692\n",
       "   v03          71.076923\n",
       "20 baseline     76.153846\n",
       "   v01a         79.846154\n",
       "   v03          80.923077"
      ]
     },
     "execution_count": 39,
     "metadata": {},
     "output_type": "execute_result"
    }
   ],
   "source": [
    "df[df[\"k\"].isin([1, 5, 10, 20])].drop([\"sample\", \"top_acc_perc__csi\"], axis=1).groupby([\"k\", \"version\"]).mean()"
   ]
  },
  {
   "cell_type": "code",
   "execution_count": 77,
   "metadata": {},
   "outputs": [
    {
     "data": {
      "text/plain": [
       "<AxesSubplot:xlabel='rt', ylabel='pref_value'>"
      ]
     },
     "execution_count": 77,
     "metadata": {},
     "output_type": "execute_result"
    },
    {
     "data": {
      "image/png": "[encoded data removed]",
      "text/plain": [
       "<Figure size 432x288 with 1 Axes>"
      ]
     },
     "metadata": {
      "needs_background": "light"
     },
     "output_type": "display_data"
    }
   ],
   "source": [
    "df = pd.read_csv(os.path.join(IDIR_V03, \"pref_values__spl=%03d.tsv\" % 8), sep=\"\\t\")\n",
    "sns.scatterplot(x=\"rt\", y=\"pref_value\", data=df)"
   ]
  },
  {
   "cell_type": "markdown",
   "metadata": {},
   "source": [
    "## EA - POSITIVE"
   ]
  },
  {
   "cell_type": "code",
   "execution_count": 47,
   "metadata": {},
   "outputs": [],
   "source": [
    "IDIR_V01a = \"logs_triton/version_01a/ds=EA__ion=positive/\"\n",
    "IDIR_V03 = \"logs_triton/version_03__log_score_fix/ds=EA__ion=positive/\""
   ]
  },
  {
   "cell_type": "code",
   "execution_count": 41,
   "metadata": {},
   "outputs": [],
   "source": [
    "df = pd.concat(\n",
    "    [\n",
    "        pd.read_csv(os.path.join(IDIR_V01a, \"topk__spl=%03d.tsv\" % idx), sep=\"\\t\").assign(sample=idx, version=\"v01a\") \n",
    "        for idx in range(10)\n",
    "    ] \n",
    "    + \n",
    "    [\n",
    "        pd.read_csv(os.path.join(IDIR_V03, \"topk__spl=%03d.tsv\" % idx), sep=\"\\t\")\n",
    "            .assign(sample=idx, version=\"v03\")\n",
    "            .rename(columns={\"top_acc_perc__casmi\": \"top_acc_perc\"})\n",
    "        for idx in range(10)\n",
    "    ]\n",
    "    +\n",
    "    [\n",
    "        pd.read_csv(os.path.join(IDIR_V03, \"topk__baseline__spl=%03d.tsv\" % idx), sep=\"\\t\")\n",
    "            .assign(sample=idx, version=\"baseline\")\n",
    "            .rename(columns={\"top_acc_perc__casmi\": \"top_acc_perc\"})\n",
    "        for idx in range(10)\n",
    "    ]\n",
    ")"
   ]
  },
  {
   "cell_type": "code",
   "execution_count": 42,
   "metadata": {},
   "outputs": [
    {
     "data": {
      "text/html": [
       "<div>\n",
       "<style scoped>\n",
       "    .dataframe tbody tr th:only-of-type {\n",
       "        vertical-align: middle;\n",
       "    }\n",
       "\n",
       "    .dataframe tbody tr th {\n",
       "        vertical-align: top;\n",
       "    }\n",
       "\n",
       "    .dataframe thead th {\n",
       "        text-align: right;\n",
       "    }\n",
       "</style>\n",
       "<table border=\"1\" class=\"dataframe\">\n",
       "  <thead>\n",
       "    <tr style=\"text-align: right;\">\n",
       "      <th></th>\n",
       "      <th></th>\n",
       "      <th>top_acc_perc</th>\n",
       "    </tr>\n",
       "    <tr>\n",
       "      <th>k</th>\n",
       "      <th>version</th>\n",
       "      <th></th>\n",
       "    </tr>\n",
       "  </thead>\n",
       "  <tbody>\n",
       "    <tr>\n",
       "      <th rowspan=\"3\" valign=\"top\">1</th>\n",
       "      <th>baseline</th>\n",
       "      <td>23.8</td>\n",
       "    </tr>\n",
       "    <tr>\n",
       "      <th>v01a</th>\n",
       "      <td>26.7</td>\n",
       "    </tr>\n",
       "    <tr>\n",
       "      <th>v03</th>\n",
       "      <td>26.6</td>\n",
       "    </tr>\n",
       "    <tr>\n",
       "      <th rowspan=\"3\" valign=\"top\">5</th>\n",
       "      <th>baseline</th>\n",
       "      <td>61.0</td>\n",
       "    </tr>\n",
       "    <tr>\n",
       "      <th>v01a</th>\n",
       "      <td>62.1</td>\n",
       "    </tr>\n",
       "    <tr>\n",
       "      <th>v03</th>\n",
       "      <td>60.0</td>\n",
       "    </tr>\n",
       "    <tr>\n",
       "      <th rowspan=\"3\" valign=\"top\">10</th>\n",
       "      <th>baseline</th>\n",
       "      <td>71.6</td>\n",
       "    </tr>\n",
       "    <tr>\n",
       "      <th>v01a</th>\n",
       "      <td>72.1</td>\n",
       "    </tr>\n",
       "    <tr>\n",
       "      <th>v03</th>\n",
       "      <td>71.7</td>\n",
       "    </tr>\n",
       "    <tr>\n",
       "      <th rowspan=\"3\" valign=\"top\">20</th>\n",
       "      <th>baseline</th>\n",
       "      <td>80.1</td>\n",
       "    </tr>\n",
       "    <tr>\n",
       "      <th>v01a</th>\n",
       "      <td>81.1</td>\n",
       "    </tr>\n",
       "    <tr>\n",
       "      <th>v03</th>\n",
       "      <td>81.5</td>\n",
       "    </tr>\n",
       "  </tbody>\n",
       "</table>\n",
       "</div>"
      ],
      "text/plain": [
       "             top_acc_perc\n",
       "k  version               \n",
       "1  baseline          23.8\n",
       "   v01a              26.7\n",
       "   v03               26.6\n",
       "5  baseline          61.0\n",
       "   v01a              62.1\n",
       "   v03               60.0\n",
       "10 baseline          71.6\n",
       "   v01a              72.1\n",
       "   v03               71.7\n",
       "20 baseline          80.1\n",
       "   v01a              81.1\n",
       "   v03               81.5"
      ]
     },
     "execution_count": 42,
     "metadata": {},
     "output_type": "execute_result"
    }
   ],
   "source": [
    "df[df[\"k\"].isin([1, 5, 10, 20])].drop([\"sample\", \"top_acc_perc__csi\"], axis=1).groupby([\"k\", \"version\"]).mean()"
   ]
  },
  {
   "cell_type": "code",
   "execution_count": 67,
   "metadata": {},
   "outputs": [
    {
     "data": {
      "text/plain": [
       "<AxesSubplot:xlabel='rt', ylabel='pref_value'>"
      ]
     },
     "execution_count": 67,
     "metadata": {},
     "output_type": "execute_result"
    },
    {
     "data": {
      "image/png": "[encoded data removed]",
      "text/plain": [
       "<Figure size 432x288 with 1 Axes>"
      ]
     },
     "metadata": {
      "needs_background": "light"
     },
     "output_type": "display_data"
    }
   ],
   "source": [
    "df = pd.read_csv(os.path.join(IDIR_V03, \"pref_values__spl=%03d.tsv\" % 8), sep=\"\\t\")\n",
    "sns.scatterplot(x=\"rt\", y=\"pref_value\", data=df)"
   ]
  },
  {
   "cell_type": "markdown",
   "metadata": {},
   "source": [
    "## Retention Order Prediction vs. Top-1 Improvement"
   ]
  },
  {
   "cell_type": "code",
   "execution_count": 103,
   "metadata": {},
   "outputs": [
    {
     "data": {
      "text/plain": [
       "<AxesSubplot:xlabel='Order Accuracy', ylabel='Top-1 Improvement'>"
      ]
     },
     "execution_count": 103,
     "metadata": {},
     "output_type": "execute_result"
    },
    {
     "data": {
      "image/png": "[encoded data removed]",
      "text/plain": [
       "<Figure size 432x288 with 1 Axes>"
      ]
     },
     "metadata": {
      "needs_background": "light"
     },
     "output_type": "display_data"
    }
   ],
   "source": [
    "from msmsrt_scorer.lib.cindex_measure import cindex\n",
    "\n",
    "k = 1\n",
    "\n",
    "order_acc, top1_improv, col = [], [], []\n",
    "\n",
    "IDIR_V03 = \"logs_triton/version_03__log_score_fix/ds=CASMI__ion=negative/\"\n",
    "for spl in range(10):\n",
    "    # Read preference values\n",
    "    _tmp = pd.read_csv(os.path.join(IDIR_V03, \"pref_values__spl=%03d.tsv\" % spl), sep=\"\\t\")\n",
    "    order_acc.append(cindex(_tmp[\"rt\"], _tmp[\"pref_value\"]))\n",
    "    \n",
    "    # Top-k accuracy\n",
    "    _baseline = pd.read_csv(os.path.join(IDIR_V03, \"topk__baseline__spl=%03d.tsv\" % spl), sep=\"\\t\")\n",
    "    _msrt = pd.read_csv(os.path.join(IDIR_V03, \"topk__spl=%03d.tsv\" % spl), sep=\"\\t\")\n",
    "    \n",
    "    top1_improv.append((_msrt - _baseline)[\"top_acc_perc__csi\"][:k].mean())\n",
    "    col.append(\"CASMI_neg\")\n",
    "\n",
    "IDIR_V03 = \"logs_triton/version_03__log_score_fix/ds=EA__ion=negative/\"\n",
    "for spl in range(10):\n",
    "    # Read preference values\n",
    "    _tmp = pd.read_csv(os.path.join(IDIR_V03, \"pref_values__spl=%03d.tsv\" % spl), sep=\"\\t\")\n",
    "    order_acc.append(cindex(_tmp[\"rt\"], _tmp[\"pref_value\"]))\n",
    "    \n",
    "    # Top-k accuracy\n",
    "    _baseline = pd.read_csv(os.path.join(IDIR_V03, \"topk__baseline__spl=%03d.tsv\" % spl), sep=\"\\t\")\n",
    "    _msrt = pd.read_csv(os.path.join(IDIR_V03, \"topk__spl=%03d.tsv\" % spl), sep=\"\\t\")\n",
    "    \n",
    "    top1_improv.append((_msrt - _baseline)[\"top_acc_perc__csi\"][:k].mean())\n",
    "    col.append(\"EA_neg\")\n",
    "    \n",
    "IDIR_V03 = \"logs_triton/version_03__log_score_fix/ds=EA__ion=positive/\"\n",
    "for spl in range(10):\n",
    "    # Read preference values\n",
    "    _tmp = pd.read_csv(os.path.join(IDIR_V03, \"pref_values__spl=%03d.tsv\" % spl), sep=\"\\t\")\n",
    "    order_acc.append(cindex(_tmp[\"rt\"], _tmp[\"pref_value\"]))\n",
    "    \n",
    "    # Top-k accuracy\n",
    "    _baseline = pd.read_csv(os.path.join(IDIR_V03, \"topk__baseline__spl=%03d.tsv\" % spl), sep=\"\\t\")\n",
    "    _msrt = pd.read_csv(os.path.join(IDIR_V03, \"topk__spl=%03d.tsv\" % spl), sep=\"\\t\")\n",
    "    \n",
    "    top1_improv.append((_msrt - _baseline)[\"top_acc_perc__csi\"][:k].mean())\n",
    "    col.append(\"EA_pos\")\n",
    "    \n",
    "    \n",
    "sns.scatterplot(data=pd.DataFrame({\"Order Accuracy\": order_acc, \"Top-1 Improvement\": top1_improv, \"Dataset\": col}),\n",
    "                x=\"Order Accuracy\", y=\"Top-1 Improvement\", hue=\"Dataset\")"
   ]
  }
 ],
 "metadata": {
  "kernelspec": {
   "display_name": "msms_rt_ssvm",
   "language": "python",
   "name": "msms_rt_ssvm"
  },
  "language_info": {
   "codemirror_mode": {
    "name": "ipython",
    "version": 3
   },
   "file_extension": ".py",
   "mimetype": "text/x-python",
   "name": "python",
   "nbconvert_exporter": "python",
   "pygments_lexer": "ipython3",
   "version": "3.8.6"
  }
 },
 "nbformat": 4,
 "nbformat_minor": 4
}
